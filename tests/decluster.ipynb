{
 "cells": [
  {
   "cell_type": "code",
   "execution_count": 1,
   "metadata": {},
   "outputs": [],
   "source": [
    "import numpy as np\n",
    "import pandas as pd\n",
    "import scipy as sc\n",
    "import matplotlib.pyplot as plt\n",
    "import matplotlib\n",
    "from scipy.stats import pearsonr\n",
    "import statsmodels.api as sm\n",
    "import time\n",
    "\n",
    "matplotlib.rcParams['figure.figsize'] = (8, 6)\n",
    "matplotlib.style.use('seaborn-v0_8')"
   ]
  },
  {
   "cell_type": "code",
   "execution_count": 2,
   "metadata": {},
   "outputs": [
    {
     "data": {
      "text/html": [
       "<div>\n",
       "<style scoped>\n",
       "    .dataframe tbody tr th:only-of-type {\n",
       "        vertical-align: middle;\n",
       "    }\n",
       "\n",
       "    .dataframe tbody tr th {\n",
       "        vertical-align: top;\n",
       "    }\n",
       "\n",
       "    .dataframe thead th {\n",
       "        text-align: right;\n",
       "    }\n",
       "</style>\n",
       "<table border=\"1\" class=\"dataframe\">\n",
       "  <thead>\n",
       "    <tr style=\"text-align: right;\">\n",
       "      <th></th>\n",
       "      <th>DATE</th>\n",
       "      <th>PRCP</th>\n",
       "    </tr>\n",
       "  </thead>\n",
       "  <tbody>\n",
       "    <tr>\n",
       "      <th>0</th>\n",
       "      <td>1725-01-01</td>\n",
       "      <td>0.0</td>\n",
       "    </tr>\n",
       "    <tr>\n",
       "      <th>1</th>\n",
       "      <td>1725-01-02</td>\n",
       "      <td>0.0</td>\n",
       "    </tr>\n",
       "    <tr>\n",
       "      <th>2</th>\n",
       "      <td>1725-01-03</td>\n",
       "      <td>0.0</td>\n",
       "    </tr>\n",
       "    <tr>\n",
       "      <th>3</th>\n",
       "      <td>1725-01-04</td>\n",
       "      <td>0.0</td>\n",
       "    </tr>\n",
       "    <tr>\n",
       "      <th>4</th>\n",
       "      <td>1725-01-05</td>\n",
       "      <td>0.0</td>\n",
       "    </tr>\n",
       "  </tbody>\n",
       "</table>\n",
       "</div>"
      ],
      "text/plain": [
       "        DATE  PRCP\n",
       "0 1725-01-01   0.0\n",
       "1 1725-01-02   0.0\n",
       "2 1725-01-03   0.0\n",
       "3 1725-01-04   0.0\n",
       "4 1725-01-05   0.0"
      ]
     },
     "execution_count": 2,
     "metadata": {},
     "output_type": "execute_result"
    }
   ],
   "source": [
    "# PRCP in [mm]\n",
    "\n",
    "df = pd.read_csv('../data/padova/PADOVA_1725_2022_PRCPdaily_reorganize.csv')\n",
    "df['DATE'] = pd.to_datetime((df.YY*10000+df.MM*100+df.DD).apply(str),format='%Y%m%d')\n",
    "df = df.drop(['DD', 'MM', 'YY'], axis=1)[['DATE', 'PRCP']]\n",
    "df.head()"
   ]
  },
  {
   "cell_type": "code",
   "execution_count": 3,
   "metadata": {},
   "outputs": [
    {
     "data": {
      "text/html": [
       "<div>\n",
       "<style scoped>\n",
       "    .dataframe tbody tr th:only-of-type {\n",
       "        vertical-align: middle;\n",
       "    }\n",
       "\n",
       "    .dataframe tbody tr th {\n",
       "        vertical-align: top;\n",
       "    }\n",
       "\n",
       "    .dataframe thead th {\n",
       "        text-align: right;\n",
       "    }\n",
       "</style>\n",
       "<table border=\"1\" class=\"dataframe\">\n",
       "  <thead>\n",
       "    <tr style=\"text-align: right;\">\n",
       "      <th></th>\n",
       "      <th>DATE</th>\n",
       "      <th>PRCP</th>\n",
       "    </tr>\n",
       "  </thead>\n",
       "  <tbody>\n",
       "    <tr>\n",
       "      <th>0</th>\n",
       "      <td>1725-01-01</td>\n",
       "      <td>0.0</td>\n",
       "    </tr>\n",
       "    <tr>\n",
       "      <th>1</th>\n",
       "      <td>1725-01-02</td>\n",
       "      <td>0.0</td>\n",
       "    </tr>\n",
       "    <tr>\n",
       "      <th>2</th>\n",
       "      <td>1725-01-03</td>\n",
       "      <td>0.0</td>\n",
       "    </tr>\n",
       "    <tr>\n",
       "      <th>3</th>\n",
       "      <td>1725-01-04</td>\n",
       "      <td>0.0</td>\n",
       "    </tr>\n",
       "    <tr>\n",
       "      <th>4</th>\n",
       "      <td>1725-01-05</td>\n",
       "      <td>0.0</td>\n",
       "    </tr>\n",
       "  </tbody>\n",
       "</table>\n",
       "</div>"
      ],
      "text/plain": [
       "        DATE  PRCP\n",
       "0 1725-01-01   0.0\n",
       "1 1725-01-02   0.0\n",
       "2 1725-01-03   0.0\n",
       "3 1725-01-04   0.0\n",
       "4 1725-01-05   0.0"
      ]
     },
     "execution_count": 3,
     "metadata": {},
     "output_type": "execute_result"
    }
   ],
   "source": [
    "study_periods = [('1725-01-01','1764-12-31'),('1768-01-01','1807-12-31'),('1841-01-01','1880-12-31'),('1887-01-01','2021-12-31')]\n",
    "df1 = df[(df['DATE'] >= study_periods[0][0]) & (df['DATE'] <= study_periods[0][1])]\n",
    "df2 = df[(df['DATE'] >= study_periods[1][0]) & (df['DATE'] <= study_periods[1][1])]\n",
    "df3 = df[(df['DATE'] >= study_periods[2][0]) & (df['DATE'] <= study_periods[2][1])]\n",
    "df4 = df[(df['DATE'] >= study_periods[3][0]) & (df['DATE'] <= study_periods[3][1])]\n",
    "df = pd.concat([df1, df2, df3, df4], ignore_index=True)\n",
    "df.head()"
   ]
  },
  {
   "cell_type": "code",
   "execution_count": 4,
   "metadata": {},
   "outputs": [],
   "source": [
    "def decluster(df, noise_lag = 10, noise_prob = 0.9, max_lag = 30):\n",
    "    '''------------------------------------------------------------\n",
    "    Decluster rainfall time series on a YEARLY BASIS. Eliminate the non-zero value within a correlation window\n",
    "    Once correlation time scale is computed, running windows with its size are selected.\n",
    "    within each of them, I only keep the largest event observed.\n",
    "    :param sample: the time series to be declustered.\n",
    "    :param noise_lag: minimum lag at which I consider the ACF to be noise (defult = 10)\n",
    "    :param noise_prob: assume as noise correlation the 75% percentile of values beyond noise_lag\n",
    "    :param max_lag: max lag used to compute the noise level (default = 30)\n",
    "    :return:\n",
    "    -> dec_df  -> a new declustered dataframe\n",
    "\n",
    "    Note that ACF is meaningless in case long series of 0 in the TS. Care should be taken in such cases.\n",
    "    --------------------------------------------------------------'''\n",
    "    dec_df = df.copy()\n",
    "    for year in range(df['DATE'].iloc[0].year, df['DATE'].iloc[-1].year + 1):\n",
    "        sample = dec_df.loc[dec_df['DATE'].dt.year==year, 'PRCP'].values\n",
    "        if sample.any(): # Check if sample is not empty\n",
    "            dec_df.loc[dec_df['DATE'].dt.year==year, 'PRCP'] = yearly_decluster(sample, noise_lag, noise_prob, max_lag)[0]\n",
    "    return dec_df\n",
    "\n",
    "def yearly_decluster(sample, noise_lag = 10, noise_prob = 0.9, max_lag = 30):\n",
    "    '''------------------------------------------------------------\n",
    "    Decluster YEARLY rainfall time series. Eliminate the non-zero value within a correlation window\n",
    "    Once correlation time scale is computed, running windows with its size are selected.\n",
    "    within each of them, I only keep the largest event observed.\n",
    "    :param sample: the time series to be declustered.\n",
    "    :param noise_lag: minimum lag at which I consider the ACF to be noise (defult = 10)\n",
    "    :param noise_prob: assume as noise correlation the 75% percentile of values beyond noise_lag\n",
    "    :param max_lag: max lag used to compute the noise level (default = 30)\n",
    "    :return:\n",
    "    -> dec_sample -> declustered time series\n",
    "    -> dec_lag    -> running lag window size in which I only keep the maximum\n",
    "\n",
    "    Note that ACF is meaningless in case long series of 0 in the TS. Care should be taken in such cases.\n",
    "    --------------------------------------------------------------'''\n",
    "    det_sample = sample.copy()\n",
    "    time_corr = sm.tsa.acf(sample, nlags=max_lag)\n",
    "\n",
    "    # ACF is assumed to be noise for k >= noise_lag \n",
    "    noise = time_corr[noise_lag:]\n",
    "    sorted_noise = np.sort(noise)\n",
    "    num_noise = np.size(noise)\n",
    "    Fi = (np.arange(num_noise)+1)/(num_noise+1) # non exceedance\n",
    "    mypos = np.argmin( np.abs(Fi-noise_prob))\n",
    "    noise_level = sorted_noise[mypos]\n",
    "\n",
    "    # first crossing of noise level\n",
    "    racf = time_corr - noise_level\n",
    "    # now find its first zero crossing\n",
    "    zero_crossings = np.where(np.diff(np.sign(racf)))[0]\n",
    "\n",
    "    # Correlation window size\n",
    "    dec_par = zero_crossings[0] \n",
    "    \n",
    "    # roll the sample array with a lookback window of dec_par+1\n",
    "    s_rolled = np.lib.stride_tricks.sliding_window_view(sample, dec_par + 1)\n",
    "    out = np.zeros(s_rolled.shape)\n",
    "    out[np.arange(len(s_rolled)), np.argmax(s_rolled, axis=1)] = 1\n",
    "\n",
    "    # Selecting only maximum of rolling window\n",
    "    for iis in range(np.size(sample)-dec_par):\n",
    "        window = sample[iis:iis+dec_par+1]\n",
    "        loc_max = np.max(window)\n",
    "        for iie in range(np.size(window)):\n",
    "            if window[iie] < loc_max:\n",
    "                det_sample[iis + iie] = 0\n",
    "        \n",
    "    return det_sample, dec_par\n",
    "\n"
   ]
  },
  {
   "cell_type": "code",
   "execution_count": 5,
   "metadata": {},
   "outputs": [
    {
     "name": "stdout",
     "output_type": "stream",
     "text": [
      "--- 2.0650908946990967 seconds ---\n"
     ]
    }
   ],
   "source": [
    "start_time = time.time()\n",
    "dec_df = decluster(df)\n",
    "print(\"--- %s seconds ---\" % (time.time() - start_time))"
   ]
  },
  {
   "cell_type": "code",
   "execution_count": 6,
   "metadata": {},
   "outputs": [
    {
     "data": {
      "image/png": "[encoded data removed]",
      "text/plain": [
       "<Figure size 800x1200 with 2 Axes>"
      ]
     },
     "metadata": {},
     "output_type": "display_data"
    }
   ],
   "source": [
    "fig, axs = plt.subplots(2, figsize=(8, 12))\n",
    "\n",
    "year = 2020\n",
    "original_TS = df.loc[df['DATE'].dt.year == year, 'PRCP']\n",
    "declustered_TS = dec_df.loc[dec_df['DATE'].dt.year == year, 'PRCP']\n",
    "t = df.loc[df['DATE'].dt.year == year, 'DATE']\n",
    "\n",
    "# Plotting precipitation\n",
    "axs[0].bar(t, original_TS, alpha=0.8, label='P (mm) Before declustering')\n",
    "axs[1].bar(t, declustered_TS, alpha=0.8, label='P (mm) After declustering')\n",
    "\n",
    "# Styling the axis\n",
    "for ax in axs:\n",
    "    ax.set_ylim(original_TS.min(), original_TS.max()+10)\n",
    "    ax.set_ylabel('P (mm)')\n",
    "    ax.grid(True)\n",
    "    ax.legend()"
   ]
  }
 ],
 "metadata": {
  "kernelspec": {
   "display_name": "venv",
   "language": "python",
   "name": "python3"
  },
  "language_info": {
   "codemirror_mode": {
    "name": "ipython",
    "version": 3
   },
   "file_extension": ".py",
   "mimetype": "text/x-python",
   "name": "python",
   "nbconvert_exporter": "python",
   "pygments_lexer": "ipython3",
   "version": "3.11.1"
  },
  "orig_nbformat": 4
 },
 "nbformat": 4,
 "nbformat_minor": 2
}
